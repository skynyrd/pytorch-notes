{
 "cells": [
  {
   "cell_type": "code",
   "execution_count": 2,
   "metadata": {},
   "outputs": [],
   "source": [
    "import torch\n",
    "import torchvision\n",
    "from torchvision import transforms, datasets"
   ]
  },
  {
   "cell_type": "code",
   "execution_count": 3,
   "metadata": {},
   "outputs": [],
   "source": [
    "train = datasets.MNIST(\"\", train=True, download=True, \n",
    "                        transform=transforms.Compose([transforms.ToTensor()]))\n",
    "\n",
    "test = datasets.MNIST(\"\", train=False, download=True, \n",
    "                        transform=transforms.Compose([transforms.ToTensor()]))"
   ]
  },
  {
   "cell_type": "code",
   "execution_count": 4,
   "metadata": {},
   "outputs": [],
   "source": [
    "trainset = torch.utils.data.DataLoader(train, batch_size=10, shuffle=True)\n",
    "testset = torch.utils.data.DataLoader(test, batch_size=10, shuffle=True)"
   ]
  },
  {
   "cell_type": "code",
   "execution_count": 5,
   "metadata": {},
   "outputs": [],
   "source": [
    "# Generally they are for similar stuff\n",
    "\n",
    "import torch.nn as nn\n",
    "import torch.nn.functional as F"
   ]
  },
  {
   "cell_type": "code",
   "execution_count": 7,
   "metadata": {},
   "outputs": [
    {
     "output_type": "stream",
     "name": "stdout",
     "text": "Net(\n  (fc1): Linear(in_features=784, out_features=64, bias=True)\n  (fc2): Linear(in_features=64, out_features=64, bias=True)\n  (fc3): Linear(in_features=64, out_features=64, bias=True)\n  (fc4): Linear(in_features=64, out_features=10, bias=True)\n)\n"
    }
   ],
   "source": [
    "class Net(nn.Module):\n",
    "    def __init__(self):\n",
    "        super().__init__()\n",
    "        self.fc1 = nn.Linear(28*28, 64)  # fc1: fully connected layer 1. 28*28 = image resolution\n",
    "        self.fc2 = nn.Linear(64, 64)     # mid-level 1\n",
    "        self.fc3 = nn.Linear(64, 64)     # mid-level 2\n",
    "        self.fc4 = nn.Linear(64, 10)     # last level\n",
    "\n",
    "    def forward(self, x):\n",
    "        x = F.relu(self.fc1(x))          # relu (rectified linear unit): Activation function =>\n",
    "        x = F.relu(self.fc2(x))          # squashes (sum of (activation value * weight + bias)) to in between 0 and 1.\n",
    "        x = F.relu(self.fc3(x))\n",
    "        x = self.fc4(x)\n",
    "\n",
    "        return F.softmax(x, dim=1)\n",
    "\n",
    "net = Net()\n",
    "print(net)"
   ]
  },
  {
   "cell_type": "code",
   "execution_count": 8,
   "metadata": {},
   "outputs": [
    {
     "output_type": "execute_result",
     "data": {
      "text/plain": "tensor([[0.0996, 0.1025, 0.0958, 0.0902, 0.0918, 0.1058, 0.0949, 0.1045, 0.1103,\n         0.1046]], grad_fn=<SoftmaxBackward>)"
     },
     "metadata": {},
     "execution_count": 8
    }
   ],
   "source": [
    "x = torch.rand((28,28))\n",
    "x = x.view(1, 28*28) # x.view(28*28) and x.view(1, 28*28) are not same, check 1-intro.ipynb\n",
    "\n",
    "output = net(x)\n",
    "\n",
    "output\n",
    "\n",
    "# the grad_fn in output is for incremental development of the network\n",
    "# check https://youtu.be/IHZwWFHWa-w"
   ]
  }
 ],
 "metadata": {
  "language_info": {
   "name": "python",
   "codemirror_mode": {
    "name": "ipython",
    "version": 3
   },
   "version": "3.7.6-final"
  },
  "orig_nbformat": 2,
  "file_extension": ".py",
  "mimetype": "text/x-python",
  "name": "python",
  "npconvert_exporter": "python",
  "pygments_lexer": "ipython3",
  "version": 3,
  "kernelspec": {
   "name": "python3",
   "display_name": "Python 3"
  }
 },
 "nbformat": 4,
 "nbformat_minor": 2
}