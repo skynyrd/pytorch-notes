{
 "cells": [
  {
   "cell_type": "code",
   "execution_count": 5,
   "metadata": {},
   "outputs": [
    {
     "output_type": "stream",
     "name": "stdout",
     "text": "tensor([10.,  3.])\n"
    }
   ],
   "source": [
    "import torch\n",
    "\n",
    "x = torch.Tensor([5,3]) \n",
    "y = torch.Tensor([2,1])\n",
    "\n",
    "print(x*y)"
   ]
  },
  {
   "cell_type": "code",
   "execution_count": 6,
   "metadata": {},
   "outputs": [
    {
     "output_type": "stream",
     "name": "stdout",
     "text": "tensor([[0., 0., 0., 0., 0.],\n        [0., 0., 0., 0., 0.]])\n"
    }
   ],
   "source": [
    "x = torch.zeros([2,5])\n",
    "\n",
    "print(x)"
   ]
  },
  {
   "cell_type": "code",
   "execution_count": 7,
   "metadata": {},
   "outputs": [
    {
     "output_type": "execute_result",
     "data": {
      "text/plain": "torch.Size([2, 5])"
     },
     "metadata": {},
     "execution_count": 7
    }
   ],
   "source": [
    "x.shape"
   ]
  },
  {
   "cell_type": "code",
   "execution_count": 8,
   "metadata": {},
   "outputs": [
    {
     "output_type": "execute_result",
     "data": {
      "text/plain": "tensor([[0.2358, 0.7280, 0.5030, 0.0408, 0.9572],\n        [0.1910, 0.7936, 0.7829, 0.4488, 0.2649]])"
     },
     "metadata": {},
     "execution_count": 8
    }
   ],
   "source": [
    "y = torch.rand([2,5])\n",
    "\n",
    "y"
   ]
  },
  {
   "cell_type": "code",
   "execution_count": 22,
   "metadata": {},
   "outputs": [
    {
     "output_type": "execute_result",
     "data": {
      "text/plain": "tensor([0.2358, 0.7280, 0.5030, 0.0408, 0.9572, 0.1910, 0.7936, 0.7829, 0.4488,\n        0.2649])"
     },
     "metadata": {},
     "execution_count": 22
    }
   ],
   "source": [
    "y.view(10)"
   ]
  },
  {
   "cell_type": "code",
   "execution_count": 21,
   "metadata": {},
   "outputs": [
    {
     "output_type": "execute_result",
     "data": {
      "text/plain": "tensor([[0.2358, 0.7280, 0.5030, 0.0408, 0.9572, 0.1910, 0.7936, 0.7829, 0.4488,\n         0.2649]])"
     },
     "metadata": {},
     "execution_count": 21
    }
   ],
   "source": [
    "y.view(1, 10)"
   ]
  },
  {
   "cell_type": "code",
   "execution_count": 20,
   "metadata": {},
   "outputs": [
    {
     "output_type": "execute_result",
     "data": {
      "text/plain": "tensor([[0.2358, 0.7280, 0.5030, 0.0408, 0.9572, 0.1910, 0.7936, 0.7829, 0.4488,\n         0.2649]])"
     },
     "metadata": {},
     "execution_count": 20
    }
   ],
   "source": [
    "y.view([1, 10])"
   ]
  }
 ],
 "metadata": {
  "kernelspec": {
   "display_name": "Python 3",
   "language": "python",
   "name": "python3"
  },
  "language_info": {
   "codemirror_mode": {
    "name": "ipython",
    "version": 3
   },
   "file_extension": ".py",
   "mimetype": "text/x-python",
   "name": "python",
   "nbconvert_exporter": "python",
   "pygments_lexer": "ipython3",
   "version": "3.7.6-final"
  }
 },
 "nbformat": 4,
 "nbformat_minor": 4
}