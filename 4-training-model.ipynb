{
 "cells": [
  {
   "cell_type": "code",
   "execution_count": 1,
   "metadata": {},
   "outputs": [
    {
     "output_type": "execute_result",
     "data": {
      "text/plain": "tensor([[0.1088, 0.0987, 0.1031, 0.0982, 0.0989, 0.0945, 0.1002, 0.0891, 0.1065,\n         0.1020]], grad_fn=<SoftmaxBackward>)"
     },
     "metadata": {},
     "execution_count": 1
    }
   ],
   "source": [
    "# Building the network, code from 3-building-neural-network.ipynb\n",
    "\n",
    "import torch\n",
    "import torchvision\n",
    "from torchvision import transforms, datasets\n",
    "import torch.nn as nn\n",
    "import torch.nn.functional as F\n",
    "\n",
    "train = datasets.MNIST(\"\", train=True, download=True, \n",
    "                        transform=transforms.Compose([transforms.ToTensor()]))\n",
    "\n",
    "test = datasets.MNIST(\"\", train=False, download=True, \n",
    "                        transform=transforms.Compose([transforms.ToTensor()]))\n",
    "\n",
    "trainset = torch.utils.data.DataLoader(train, batch_size=10, shuffle=True)\n",
    "testset = torch.utils.data.DataLoader(test, batch_size=10, shuffle=True)\n",
    "\n",
    "class Net(nn.Module):\n",
    "    def __init__(self):\n",
    "        super().__init__()\n",
    "        self.fc1 = nn.Linear(28*28, 64)  # fc1: fully connected layer 1. 28*28 = image resolution\n",
    "        self.fc2 = nn.Linear(64, 64)\n",
    "        self.fc3 = nn.Linear(64, 64)\n",
    "        self.fc4 = nn.Linear(64, 10)\n",
    "\n",
    "    def forward(self, x):\n",
    "        x = F.relu(self.fc1(x))          # relu (rectified linear unit): Activation function\n",
    "        x = F.relu(self.fc2(x))\n",
    "        x = F.relu(self.fc3(x))\n",
    "        x = self.fc4(x)\n",
    "\n",
    "        return F.softmax(x, dim=1)\n",
    "\n",
    "net = Net()\n",
    "\n",
    "x = torch.rand((28,28))\n",
    "x = x.view(1, 28*28) # x.view(28*28) and x.view(1, 28*28) are not same, check 1-intro.ipynb\n",
    "\n",
    "output = net(x)\n",
    "\n",
    "output"
   ]
  },
  {
   "cell_type": "code",
   "execution_count": 2,
   "metadata": {},
   "outputs": [],
   "source": [
    "# loss: Shows the correctness of the result, less loss shows that network guessed the number better\n",
    "# optimizer: Adjusts weights and biases according to the loss\n",
    "\n",
    "import torch.optim as optim\n",
    "\n",
    "optimizer = optim.Adam(net.parameters(), lr=0.001) # Adam algorithm takes in all the params (weights and biases)\n",
    "\n",
    "# lr = learning rate.\n",
    "#   In order to get our model work better, we need to find the minimum of the very complex function. \n",
    "#   (function with all the network parameters, dozens of biases, weights etc)\n",
    "#   Finding minimum is like finding the minimum loss\n",
    "#   But the function graph may have local minimums too.\n",
    "#   if learning rate is too small, then it will stuck in one of the first local minimums\n",
    "#   if learning rate is too big, then it will never find the minimum.\n",
    "#   we may also adjust the learning rate.\n",
    "#   check https://youtu.be/IHZwWFHWa-w for details.\n",
    "\n",
    "EPOCHS = 3 # One Epoch is when an ENTIRE dataset is passed forward and backward through the neural network only ONCE.\n"
   ]
  },
  {
   "cell_type": "code",
   "execution_count": null,
   "metadata": {},
   "outputs": [],
   "source": []
  }
 ],
 "metadata": {
  "language_info": {
   "name": "python",
   "codemirror_mode": {
    "name": "ipython",
    "version": 3
   },
   "version": "3.7.6-final"
  },
  "orig_nbformat": 2,
  "file_extension": ".py",
  "mimetype": "text/x-python",
  "name": "python",
  "npconvert_exporter": "python",
  "pygments_lexer": "ipython3",
  "version": 3,
  "kernelspec": {
   "name": "python3",
   "display_name": "Python 3"
  }
 },
 "nbformat": 4,
 "nbformat_minor": 2
}